{
 "cells": [
  {
   "cell_type": "code",
   "execution_count": 63,
   "id": "c5e7e62e-74c1-41af-8e1d-690f36a25b8a",
   "metadata": {},
   "outputs": [],
   "source": [
    "# Importing libraries\n",
    "import numpy as np\n",
    "import pandas as pd\n",
    "import matplotlib.pyplot as plt\n",
    "from sklearn.feature_extraction.text import CountVectorizer\n",
    "from sklearn.model_selection import GridSearchCV\n",
    "from sklearn import svm"
   ]
  },
  {
   "cell_type": "code",
   "execution_count": 31,
   "id": "37e94458-dd62-472a-a6c7-afc073034d3c",
   "metadata": {},
   "outputs": [
    {
     "name": "stdout",
     "output_type": "stream",
     "text": [
      "     Category                                            Message\n",
      "0         ham  Go until jurong point, crazy.. Available only ...\n",
      "1         ham                      Ok lar... Joking wif u oni...\n",
      "2        spam  Free entry in 2 a wkly comp to win FA Cup fina...\n",
      "3         ham  U dun say so early hor... U c already then say...\n",
      "4         ham  Nah I don't think he goes to usf, he lives aro...\n",
      "...       ...                                                ...\n",
      "5567     spam  This is the 2nd time we have tried 2 contact u...\n",
      "5568      ham               Will ü b going to esplanade fr home?\n",
      "5569      ham  Pity, * was in mood for that. So...any other s...\n",
      "5570      ham  The guy did some bitching but I acted like i'd...\n",
      "5571      ham                         Rofl. Its true to its name\n",
      "\n",
      "[5572 rows x 2 columns]\n"
     ]
    }
   ],
   "source": [
    "df = pd.read_csv(r'C:\\Users\\V.THANUJA\\Downloads\\archive\\mail_data.csv')\n",
    "#Printing data\n",
    "print(df)"
   ]
  },
  {
   "cell_type": "code",
   "execution_count": 33,
   "id": "4e697319-95ca-4fff-8ab0-291769b51689",
   "metadata": {},
   "outputs": [
    {
     "name": "stdout",
     "output_type": "stream",
     "text": [
      "<class 'pandas.core.frame.DataFrame'>\n",
      "RangeIndex: 5572 entries, 0 to 5571\n",
      "Data columns (total 2 columns):\n",
      " #   Column    Non-Null Count  Dtype \n",
      "---  ------    --------------  ----- \n",
      " 0   Category  5572 non-null   object\n",
      " 1   Message   5572 non-null   object\n",
      "dtypes: object(2)\n",
      "memory usage: 87.2+ KB\n"
     ]
    }
   ],
   "source": [
    "df.info()"
   ]
  },
  {
   "cell_type": "code",
   "execution_count": 35,
   "id": "7f51ed2c-b6c6-4c15-b652-882f22b1a073",
   "metadata": {},
   "outputs": [
    {
     "data": {
      "text/html": [
       "<div>\n",
       "<style scoped>\n",
       "    .dataframe tbody tr th:only-of-type {\n",
       "        vertical-align: middle;\n",
       "    }\n",
       "\n",
       "    .dataframe tbody tr th {\n",
       "        vertical-align: top;\n",
       "    }\n",
       "\n",
       "    .dataframe thead th {\n",
       "        text-align: right;\n",
       "    }\n",
       "</style>\n",
       "<table border=\"1\" class=\"dataframe\">\n",
       "  <thead>\n",
       "    <tr style=\"text-align: right;\">\n",
       "      <th></th>\n",
       "      <th>Category</th>\n",
       "      <th>Message</th>\n",
       "    </tr>\n",
       "  </thead>\n",
       "  <tbody>\n",
       "    <tr>\n",
       "      <th>count</th>\n",
       "      <td>5572</td>\n",
       "      <td>5572</td>\n",
       "    </tr>\n",
       "    <tr>\n",
       "      <th>unique</th>\n",
       "      <td>2</td>\n",
       "      <td>5157</td>\n",
       "    </tr>\n",
       "    <tr>\n",
       "      <th>top</th>\n",
       "      <td>ham</td>\n",
       "      <td>Sorry, I'll call later</td>\n",
       "    </tr>\n",
       "    <tr>\n",
       "      <th>freq</th>\n",
       "      <td>4825</td>\n",
       "      <td>30</td>\n",
       "    </tr>\n",
       "  </tbody>\n",
       "</table>\n",
       "</div>"
      ],
      "text/plain": [
       "       Category                 Message\n",
       "count      5572                    5572\n",
       "unique        2                    5157\n",
       "top         ham  Sorry, I'll call later\n",
       "freq       4825                      30"
      ]
     },
     "execution_count": 35,
     "metadata": {},
     "output_type": "execute_result"
    }
   ],
   "source": [
    "df.describe()"
   ]
  },
  {
   "cell_type": "code",
   "execution_count": 37,
   "id": "4906709a-46ca-4455-bce0-73094e619738",
   "metadata": {},
   "outputs": [
    {
     "data": {
      "text/plain": [
       "Category    0\n",
       "Message     0\n",
       "dtype: int64"
      ]
     },
     "execution_count": 37,
     "metadata": {},
     "output_type": "execute_result"
    }
   ],
   "source": [
    "# Check missing values\n",
    "df.isna().sum()"
   ]
  },
  {
   "cell_type": "code",
   "execution_count": 39,
   "id": "9e6893a9-7b56-4d33-8fdf-066729ca4bf7",
   "metadata": {},
   "outputs": [
    {
     "data": {
      "text/plain": [
       "(5572, 2)"
      ]
     },
     "execution_count": 39,
     "metadata": {},
     "output_type": "execute_result"
    }
   ],
   "source": [
    "# Check data shape\n",
    "df.shape"
   ]
  },
  {
   "cell_type": "code",
   "execution_count": 41,
   "id": "5d7f1f6c-7bef-41fd-b783-1d7a7b874327",
   "metadata": {},
   "outputs": [
    {
     "data": {
      "text/plain": [
       "<Axes: xlabel='Category'>"
      ]
     },
     "execution_count": 41,
     "metadata": {},
     "output_type": "execute_result"
    },
    {
     "data": {
      "image/png": "[encoded data removed]",
      "text/plain": [
       "<Figure size 640x480 with 1 Axes>"
      ]
     },
     "metadata": {},
     "output_type": "display_data"
    }
   ],
   "source": [
    "df['Category'].value_counts(normalize = True).plot.bar()"
   ]
  },
  {
   "cell_type": "code",
   "execution_count": 43,
   "id": "3138205c-1a6c-4d45-9aa1-f0c38cd2728d",
   "metadata": {},
   "outputs": [],
   "source": [
    "# Declare feature vector and target variable\n",
    "x = df['Message'].values\n",
    "y = df['Category'].values"
   ]
  },
  {
   "cell_type": "code",
   "execution_count": 45,
   "id": "cd8e2bd1-2d28-4b62-ac5b-0d70a6162ee4",
   "metadata": {},
   "outputs": [],
   "source": [
    "from sklearn.model_selection import train_test_split\n",
    "x_train, x_test, y_train, y_test = train_test_split(x, y, test_size = 0.2, random_state = 0)"
   ]
  },
  {
   "cell_type": "code",
   "execution_count": 47,
   "id": "23c5d8b9-254f-4cb0-9f4d-c925398472c5",
   "metadata": {},
   "outputs": [],
   "source": [
    "# Converting String to Integer\n",
    "cv = CountVectorizer()  \n",
    "x_train = cv.fit_transform(x_train)\n",
    "x_test = cv.transform(x_test)"
   ]
  },
  {
   "cell_type": "code",
   "execution_count": 51,
   "id": "d61ce745-50d3-4031-86f7-715912a9e5f5",
   "metadata": {},
   "outputs": [
    {
     "name": "stdout",
     "output_type": "stream",
     "text": [
      "  (0, 4809)\t1\n",
      "  (0, 3196)\t1\n",
      "  (0, 2943)\t1\n",
      "  (0, 6861)\t1\n",
      "  (0, 4623)\t1\n",
      "  (0, 3769)\t1\n",
      "  (0, 3781)\t1\n",
      "  (0, 4932)\t1\n",
      "  (0, 3615)\t1\n",
      "  (0, 4084)\t1\n",
      "  (0, 3661)\t1\n",
      "  (0, 957)\t1\n",
      "  (0, 3529)\t1\n",
      "  (1, 3615)\t1\n",
      "  (1, 7751)\t1\n",
      "  (1, 7502)\t1\n",
      "  (1, 1048)\t1\n",
      "  (1, 2990)\t1\n",
      "  (1, 1625)\t1\n",
      "  (1, 3158)\t1\n",
      "  (1, 5021)\t1\n",
      "  (1, 4696)\t1\n",
      "  (1, 816)\t1\n",
      "  (1, 2603)\t1\n",
      "  (1, 4716)\t1\n",
      "  :\t:\n",
      "  (4454, 373)\t1\n",
      "  (4454, 651)\t1\n",
      "  (4454, 4625)\t1\n",
      "  (4454, 2120)\t1\n",
      "  (4454, 110)\t1\n",
      "  (4454, 348)\t1\n",
      "  (4455, 3615)\t1\n",
      "  (4455, 3661)\t1\n",
      "  (4455, 1625)\t1\n",
      "  (4455, 7455)\t2\n",
      "  (4455, 4679)\t1\n",
      "  (4455, 3531)\t1\n",
      "  (4455, 3176)\t1\n",
      "  (4455, 4442)\t1\n",
      "  (4455, 5927)\t1\n",
      "  (4455, 2495)\t1\n",
      "  (4456, 3132)\t1\n",
      "  (4456, 2189)\t1\n",
      "  (4456, 6857)\t1\n",
      "  (4456, 6988)\t1\n",
      "  (4456, 6094)\t1\n",
      "  (4456, 2801)\t1\n",
      "  (4456, 3789)\t1\n",
      "  (4456, 4549)\t1\n",
      "  (4456, 6267)\t1\n"
     ]
    }
   ],
   "source": [
    "print(x_train)"
   ]
  },
  {
   "cell_type": "code",
   "execution_count": 53,
   "id": "587a1348-8802-4dd4-8678-61a3a6e8008a",
   "metadata": {},
   "outputs": [
    {
     "name": "stdout",
     "output_type": "stream",
     "text": [
      "  (0, 524)\t1\n",
      "  (0, 961)\t1\n",
      "  (0, 1537)\t1\n",
      "  (0, 1625)\t1\n",
      "  (0, 2167)\t1\n",
      "  (0, 2370)\t1\n",
      "  (0, 3152)\t2\n",
      "  (0, 3153)\t2\n",
      "  (0, 3231)\t1\n",
      "  (0, 3410)\t3\n",
      "  (0, 3454)\t1\n",
      "  (0, 3747)\t1\n",
      "  (0, 3769)\t3\n",
      "  (0, 3781)\t1\n",
      "  (0, 3989)\t2\n",
      "  (0, 4129)\t1\n",
      "  (0, 4378)\t1\n",
      "  (0, 4432)\t1\n",
      "  (0, 4599)\t1\n",
      "  (0, 4633)\t1\n",
      "  (0, 4698)\t2\n",
      "  (0, 4845)\t1\n",
      "  (0, 4908)\t3\n",
      "  (0, 4956)\t1\n",
      "  (0, 5187)\t1\n",
      "  :\t:\n",
      "  (1111, 4910)\t1\n",
      "  (1111, 6789)\t1\n",
      "  (1111, 6981)\t1\n",
      "  (1112, 855)\t1\n",
      "  (1112, 935)\t1\n",
      "  (1112, 972)\t1\n",
      "  (1112, 1097)\t1\n",
      "  (1112, 1603)\t1\n",
      "  (1112, 1901)\t1\n",
      "  (1112, 3030)\t1\n",
      "  (1112, 3176)\t1\n",
      "  (1112, 3213)\t1\n",
      "  (1112, 3661)\t1\n",
      "  (1112, 4033)\t1\n",
      "  (1112, 4692)\t1\n",
      "  (1112, 4873)\t1\n",
      "  (1112, 6861)\t1\n",
      "  (1112, 6981)\t2\n",
      "  (1112, 7561)\t1\n",
      "  (1113, 2626)\t1\n",
      "  (1114, 1048)\t1\n",
      "  (1114, 2394)\t1\n",
      "  (1114, 3535)\t1\n",
      "  (1114, 7515)\t1\n",
      "  (1114, 7751)\t2\n"
     ]
    }
   ],
   "source": [
    "print(x_test)"
   ]
  },
  {
   "cell_type": "code",
   "execution_count": 55,
   "id": "6fab4144-8dec-4655-b57a-bfff706fc15c",
   "metadata": {},
   "outputs": [
    {
     "name": "stdout",
     "output_type": "stream",
     "text": [
      "0.9820627802690582\n"
     ]
    }
   ],
   "source": [
    "from sklearn.svm import SVC\n",
    "classifier = SVC(kernel = 'rbf', random_state = 10)\n",
    "classifier.fit(x_train, y_train)\n",
    "print(classifier.score(x_test,y_test))"
   ]
  },
  {
   "cell_type": "code",
   "execution_count": null,
   "id": "f7008471-b087-4889-8765-4da78fd17440",
   "metadata": {},
   "outputs": [],
   "source": []
  }
 ],
 "metadata": {
  "kernelspec": {
   "display_name": "Python [conda env:base] *",
   "language": "python",
   "name": "conda-base-py"
  },
  "language_info": {
   "codemirror_mode": {
    "name": "ipython",
    "version": 3
   },
   "file_extension": ".py",
   "mimetype": "text/x-python",
   "name": "python",
   "nbconvert_exporter": "python",
   "pygments_lexer": "ipython3",
   "version": "3.12.7"
  }
 },
 "nbformat": 4,
 "nbformat_minor": 5
}
